{
  "nbformat": 4,
  "nbformat_minor": 0,
  "metadata": {
    "colab": {
      "provenance": []
    },
    "kernelspec": {
      "name": "python3",
      "display_name": "Python 3"
    },
    "language_info": {
      "name": "python"
    }
  },
  "cells": [
    {
      "cell_type": "code",
      "execution_count": 1,
      "metadata": {
        "colab": {
          "base_uri": "https://localhost:8080/"
        },
        "id": "iooaRXhHjXE_",
        "outputId": "d98c2cfd-7233-4303-c21f-df08273ea288"
      },
      "outputs": [
        {
          "output_type": "stream",
          "name": "stdout",
          "text": [
            "Welcome to ChatBot! (Type 'exit' to end the chat)\n",
            "You: hi\n",
            "Bot: Sorry, I don't understand that.\n",
            "You: hello\n",
            "Bot: Hi!\n",
            "You: how are you\n",
            "Bot: I'm fine, thanks!\n",
            "You: bye\n",
            "Bot: Goodbye!\n"
          ]
        }
      ],
      "source": [
        "def chatbot():\n",
        "    print(\"Welcome to ChatBot! (Type 'exit' to end the chat)\")\n",
        "\n",
        "    while True:\n",
        "        user_input = input(\"You: \").lower()\n",
        "\n",
        "        if user_input == \"hello\":\n",
        "            print(\"Bot: Hi!\")\n",
        "        elif user_input == \"how are you\":\n",
        "            print(\"Bot: I'm fine, thanks!\")\n",
        "        elif user_input == \"bye\":\n",
        "            print(\"Bot: Goodbye!\")\n",
        "            break\n",
        "        elif user_input == \"exit\":\n",
        "            print(\"Bot: Chat ended.\")\n",
        "            break\n",
        "        else:\n",
        "            print(\"Bot: Sorry, I don't understand that.\")\n",
        "\n",
        "# Run the chatbot\n",
        "chatbot()\n"
      ]
    },
    {
      "cell_type": "code",
      "source": [],
      "metadata": {
        "id": "jC0USkLWje5q"
      },
      "execution_count": null,
      "outputs": []
    }
  ]
}